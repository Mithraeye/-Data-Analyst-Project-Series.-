{
  "nbformat": 4,
  "nbformat_minor": 0,
  "metadata": {
    "colab": {
      "provenance": [],
      "authorship_tag": "ABX9TyNOLe5rtv7w5FeBWOVNDJnt",
      "include_colab_link": true
    },
    "kernelspec": {
      "name": "python3",
      "display_name": "Python 3"
    },
    "language_info": {
      "name": "python"
    }
  },
  "cells": [
    {
      "cell_type": "markdown",
      "metadata": {
        "id": "view-in-github",
        "colab_type": "text"
      },
      "source": [
        "<a href=\"https://colab.research.google.com/github/Mithraeye/-Data-Analyst-Project-Series.-/blob/main/Weather_dataset.ipynb\" target=\"_parent\"><img src=\"https://colab.research.google.com/assets/colab-badge.svg\" alt=\"Open In Colab\"/></a>"
      ]
    },
    {
      "cell_type": "code",
      "execution_count": null,
      "metadata": {
        "colab": {
          "base_uri": "https://localhost:8080/"
        },
        "id": "magNixlatwWi",
        "outputId": "bf50f215-e1ca-4d27-eb70-3c2e044ea4ee"
      },
      "outputs": [
        {
          "output_type": "stream",
          "name": "stdout",
          "text": [
            "       Date/Time  Temp_C  Dew Point Temp_C  Rel Hum_%  Wind Speed_km/h  \\\n",
            "0  1/1/2012 0:00    -1.8              -3.9         86                4   \n",
            "1  1/1/2012 1:00    -1.8              -3.7         87                4   \n",
            "2  1/1/2012 2:00    -1.8              -3.4         89                7   \n",
            "3  1/1/2012 3:00    -1.5              -3.2         88                6   \n",
            "4  1/1/2012 4:00    -1.5              -3.3         88                7   \n",
            "\n",
            "   Visibility_km  Press_kPa               Weather  \n",
            "0            8.0     101.24                   Fog  \n",
            "1            8.0     101.24                   Fog  \n",
            "2            4.0     101.26  Freezing Drizzle,Fog  \n",
            "3            4.0     101.27  Freezing Drizzle,Fog  \n",
            "4            4.8     101.23                   Fog  \n"
          ]
        }
      ],
      "source": [
        "import pandas as pd\n",
        "\n",
        "# Load the dataset from the provided link\n",
        "url = \"https://drive.google.com/uc?id=1e0XOalmmdQgU6Kx7iTqyzGR7grSbFD0n\"\n",
        "weather_data = pd.read_csv(url)\n",
        "\n",
        "# Display the first few rows of the dataset to understand its structure\n",
        "print(weather_data.head())\n"
      ]
    },
    {
      "cell_type": "code",
      "source": [
        "# Check for missing values in the dataset\n",
        "missing_values = weather_data.isnull().sum()\n",
        "print(\"Missing Values:\")\n",
        "print(missing_values)\n",
        "\n",
        "# Handle missing values\n",
        "# For numeric columns, we can replace missing values with the mean or median\n",
        "numeric_columns = weather_data.select_dtypes(include=['int64', 'float64']).columns\n",
        "weather_data[numeric_columns] = weather_data[numeric_columns].fillna(weather_data[numeric_columns].median())\n",
        "\n",
        "# For categorical columns, we can replace missing values with the mode (most frequent value)\n",
        "categorical_columns = weather_data.select_dtypes(include=['object']).columns\n",
        "weather_data[categorical_columns] = weather_data[categorical_columns].fillna(weather_data[categorical_columns].mode().iloc[0])\n",
        "\n",
        "# Recheck for missing values to confirm they are handled\n",
        "missing_values_after_handling = weather_data.isnull().sum()\n",
        "print(\"\\nMissing Values After Handling:\")\n",
        "print(missing_values_after_handling)"
      ],
      "metadata": {
        "colab": {
          "base_uri": "https://localhost:8080/"
        },
        "id": "22VrjAdOviur",
        "outputId": "1e981ddf-abbf-4fd5-9d0d-dd7817786c77"
      },
      "execution_count": null,
      "outputs": [
        {
          "output_type": "stream",
          "name": "stdout",
          "text": [
            "Missing Values:\n",
            "Date/Time           0\n",
            "Temp_C              0\n",
            "Dew Point Temp_C    0\n",
            "Rel Hum_%           0\n",
            "Wind Speed_km/h     0\n",
            "Visibility_km       0\n",
            "Press_kPa           0\n",
            "Weather             0\n",
            "dtype: int64\n",
            "\n",
            "Missing Values After Handling:\n",
            "Date/Time           0\n",
            "Temp_C              0\n",
            "Dew Point Temp_C    0\n",
            "Rel Hum_%           0\n",
            "Wind Speed_km/h     0\n",
            "Visibility_km       0\n",
            "Press_kPa           0\n",
            "Weather             0\n",
            "dtype: int64\n"
          ]
        }
      ]
    },
    {
      "cell_type": "code",
      "source": [
        "# Define a function to detect outliers using IQR method\n",
        "def detect_outliers(df, column):\n",
        "    Q1 = df[column].quantile(0.25)\n",
        "    Q3 = df[column].quantile(0.75)\n",
        "    IQR = Q3 - Q1\n",
        "    lower_bound = Q1 - 1.5 * IQR\n",
        "    upper_bound = Q3 + 1.5 * IQR\n",
        "    outliers = df[(df[column] < lower_bound) | (df[column] > upper_bound)]\n",
        "    return outliers\n",
        "\n",
        "# Detect outliers in numeric columns\n",
        "numeric_columns = weather_data.select_dtypes(include=['int64', 'float64']).columns\n",
        "outliers_dict = {}\n",
        "for column in numeric_columns:\n",
        "    outliers_dict[column] = detect_outliers(weather_data, column)\n",
        "\n",
        "# Remove outliers\n",
        "for column, outliers in outliers_dict.items():\n",
        "    if not outliers.empty:\n",
        "        print(\"Outliers detected in column:\", column)\n",
        "        print(outliers)\n",
        "        # Remove outliers from the dataset\n",
        "        weather_data = weather_data[~weather_data.index.isin(outliers.index)]\n",
        "\n",
        "print(\"\\nData after removing outliers:\")\n",
        "print(weather_data.head())\n"
      ],
      "metadata": {
        "colab": {
          "base_uri": "https://localhost:8080/"
        },
        "id": "Rb9qxVS8vtHO",
        "outputId": "b8412a73-53e3-4f7c-b122-f55873e10e36"
      },
      "execution_count": null,
      "outputs": [
        {
          "output_type": "stream",
          "name": "stdout",
          "text": [
            "Outliers detected in column: Rel Hum_%\n",
            "            Date/Time  Temp_C  Dew Point Temp_C  Rel Hum_%  Wind Speed_km/h  \\\n",
            "1984  3/23/2012 16:00    15.5              -9.0         18               22   \n",
            "3066   5/7/2012 18:00    20.7              -4.4         18               13   \n",
            "\n",
            "      Visibility_km  Press_kPa        Weather  \n",
            "1984           48.3      101.6         Cloudy  \n",
            "3066           48.3      101.0  Mostly Cloudy  \n",
            "Outliers detected in column: Wind Speed_km/h\n",
            "             Date/Time  Temp_C  Dew Point Temp_C  Rel Hum_%  Wind Speed_km/h  \\\n",
            "25       1/2/2012 1:00     4.6               0.0         72               39   \n",
            "32       1/2/2012 8:00     1.9              -3.3         68               39   \n",
            "33       1/2/2012 9:00     1.8              -3.7         67               44   \n",
            "34      1/2/2012 10:00     1.5              -4.1         66               43   \n",
            "36      1/2/2012 12:00     1.7              -6.2         56               48   \n",
            "...                ...     ...               ...        ...              ...   \n",
            "8679  12/27/2012 15:00    -5.0              -6.2         91               37   \n",
            "8680  12/27/2012 16:00    -4.5              -6.2         88               37   \n",
            "8684  12/27/2012 20:00    -3.7              -5.3         89               37   \n",
            "8749  12/30/2012 13:00   -12.4             -16.2         73               37   \n",
            "8750  12/30/2012 14:00   -11.8             -16.1         70               37   \n",
            "\n",
            "      Visibility_km  Press_kPa            Weather  \n",
            "25             25.0      99.26             Cloudy  \n",
            "32             24.1      99.14      Mostly Cloudy  \n",
            "33             24.1      99.14      Mostly Cloudy  \n",
            "34             24.1      99.18      Mostly Cloudy  \n",
            "36             24.1      99.21       Mainly Clear  \n",
            "...             ...        ...                ...  \n",
            "8679            0.6     100.37  Snow,Blowing Snow  \n",
            "8680            2.0     100.44  Snow,Blowing Snow  \n",
            "8684           16.1     100.58               Snow  \n",
            "8749           48.3     100.92      Mostly Cloudy  \n",
            "8750           48.3     100.96       Mainly Clear  \n",
            "\n",
            "[162 rows x 8 columns]\n",
            "Outliers detected in column: Visibility_km\n",
            "             Date/Time  Temp_C  Dew Point Temp_C  Rel Hum_%  Wind Speed_km/h  \\\n",
            "0        1/1/2012 0:00    -1.8              -3.9         86                4   \n",
            "1        1/1/2012 1:00    -1.8              -3.7         87                4   \n",
            "2        1/1/2012 2:00    -1.8              -3.4         89                7   \n",
            "3        1/1/2012 3:00    -1.5              -3.2         88                6   \n",
            "4        1/1/2012 4:00    -1.5              -3.3         88                7   \n",
            "...                ...     ...               ...        ...              ...   \n",
            "8779  12/31/2012 19:00     0.1              -2.7         81               30   \n",
            "8780  12/31/2012 20:00     0.2              -2.4         83               24   \n",
            "8781  12/31/2012 21:00    -0.5              -1.5         93               28   \n",
            "8782  12/31/2012 22:00    -0.2              -1.8         89               28   \n",
            "8783  12/31/2012 23:00     0.0              -2.1         86               30   \n",
            "\n",
            "      Visibility_km  Press_kPa               Weather  \n",
            "0               8.0     101.24                   Fog  \n",
            "1               8.0     101.24                   Fog  \n",
            "2               4.0     101.26  Freezing Drizzle,Fog  \n",
            "3               4.0     101.27  Freezing Drizzle,Fog  \n",
            "4               4.8     101.23                   Fog  \n",
            "...             ...        ...                   ...  \n",
            "8779            9.7     100.13                  Snow  \n",
            "8780            9.7     100.03                  Snow  \n",
            "8781            4.8      99.95                  Snow  \n",
            "8782            9.7      99.91                  Snow  \n",
            "8783           11.3      99.89                  Snow  \n",
            "\n",
            "[3539 rows x 8 columns]\n",
            "Outliers detected in column: Press_kPa\n",
            "             Date/Time  Temp_C  Dew Point Temp_C  Rel Hum_%  Wind Speed_km/h  \\\n",
            "294     1/13/2012 6:00    -5.4              -7.8         83               22   \n",
            "295     1/13/2012 7:00    -5.1              -7.7         82               22   \n",
            "296     1/13/2012 8:00    -5.1              -7.5         83               26   \n",
            "297     1/13/2012 9:00    -5.0              -7.3         84               32   \n",
            "298    1/13/2012 10:00    -4.8              -7.2         83               26   \n",
            "...                ...     ...               ...        ...              ...   \n",
            "8553   12/22/2012 9:00    -3.0              -5.0         86               35   \n",
            "8554  12/22/2012 10:00    -3.6              -5.0         90               37   \n",
            "8555  12/22/2012 11:00    -4.3              -5.4         92               35   \n",
            "8556  12/22/2012 12:00    -4.5              -5.9         90               33   \n",
            "8557  12/22/2012 13:00    -4.7              -6.9         85               37   \n",
            "\n",
            "      Visibility_km  Press_kPa                    Weather  \n",
            "294            16.1      98.94                     Cloudy  \n",
            "295            16.1      98.84                     Cloudy  \n",
            "296             8.0      98.69              Freezing Rain  \n",
            "297             4.8      98.56  Freezing Rain,Snow Grains  \n",
            "298            12.9      98.44           Freezing Drizzle  \n",
            "...             ...        ...                        ...  \n",
            "8553            3.2      98.58                       Snow  \n",
            "8554            1.6      98.70                       Snow  \n",
            "8555            1.2      98.78                       Snow  \n",
            "8556            1.6      98.86                       Snow  \n",
            "8557            4.0      98.96                       Snow  \n",
            "\n",
            "[207 rows x 8 columns]\n",
            "\n",
            "Data after removing outliers:\n",
            "         Date/Time  Temp_C  Dew Point Temp_C  Rel Hum_%  Wind Speed_km/h  \\\n",
            "20  1/1/2012 20:00     3.2               1.3         87               19   \n",
            "21  1/1/2012 21:00     4.0               1.7         85               20   \n",
            "23  1/1/2012 23:00     5.3               2.0         79               30   \n",
            "24   1/2/2012 0:00     5.2               1.5         77               35   \n",
            "26   1/2/2012 2:00     3.9              -0.9         71               32   \n",
            "\n",
            "    Visibility_km  Press_kPa        Weather  \n",
            "20           25.0      99.50         Cloudy  \n",
            "21           25.0      99.39         Cloudy  \n",
            "23           25.0      99.31         Cloudy  \n",
            "24           25.0      99.26   Rain Showers  \n",
            "26           25.0      99.26  Mostly Cloudy  \n"
          ]
        }
      ]
    },
    {
      "cell_type": "code",
      "source": [
        "from sklearn.preprocessing import MinMaxScaler\n",
        "\n",
        "# Initialize MinMaxScaler\n",
        "scaler = MinMaxScaler()\n",
        "\n",
        "# Apply Min-Max scaling to numeric columns\n",
        "weather_data[numeric_columns] = scaler.fit_transform(weather_data[numeric_columns])\n",
        "\n",
        "# Display the first few rows of the normalized dataset\n",
        "print(\"\\nNormalized Data:\")\n",
        "print(weather_data.head())\n"
      ],
      "metadata": {
        "colab": {
          "base_uri": "https://localhost:8080/"
        },
        "id": "uL6BqNm9vvM2",
        "outputId": "e6852c6d-16e9-4087-f798-b1e3e2c8d0d7"
      },
      "execution_count": null,
      "outputs": [
        {
          "output_type": "stream",
          "name": "stdout",
          "text": [
            "\n",
            "Normalized Data:\n",
            "         Date/Time    Temp_C  Dew Point Temp_C  Rel Hum_%  Wind Speed_km/h  \\\n",
            "20  1/1/2012 20:00  0.470693          0.563327   0.846154         0.542857   \n",
            "21  1/1/2012 21:00  0.484902          0.570888   0.820513         0.571429   \n",
            "23  1/1/2012 23:00  0.507993          0.576560   0.743590         0.857143   \n",
            "24   1/2/2012 0:00  0.506217          0.567108   0.717949         1.000000   \n",
            "26   1/2/2012 2:00  0.483126          0.521739   0.641026         0.914286   \n",
            "\n",
            "    Visibility_km  Press_kPa        Weather  \n",
            "20            1.0   0.110294         Cloudy  \n",
            "21            1.0   0.083333         Cloudy  \n",
            "23            1.0   0.063725         Cloudy  \n",
            "24            1.0   0.051471   Rain Showers  \n",
            "26            1.0   0.051471  Mostly Cloudy  \n"
          ]
        }
      ]
    }
  ]
}